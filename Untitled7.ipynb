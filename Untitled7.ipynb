{
  "nbformat": 4,
  "nbformat_minor": 0,
  "metadata": {
    "colab": {
      "provenance": [],
      "authorship_tag": "ABX9TyOFXxVB54Zd2x5tDKPimDEW",
      "include_colab_link": true
    },
    "kernelspec": {
      "name": "python3",
      "display_name": "Python 3"
    },
    "language_info": {
      "name": "python"
    }
  },
  "cells": [
    {
      "cell_type": "markdown",
      "metadata": {
        "id": "view-in-github",
        "colab_type": "text"
      },
      "source": [
        "<a href=\"https://colab.research.google.com/github/prashanth741/AIML/blob/main/Untitled7.ipynb\" target=\"_parent\"><img src=\"https://colab.research.google.com/assets/colab-badge.svg\" alt=\"Open In Colab\"/></a>"
      ]
    },
    {
      "cell_type": "code",
      "source": [
        "input = [1.0, 2.0, 3.0]\n",
        "weight = [0.2, 0.8, -0.5]\n",
        "output = input[0]*weight[0]+input[1]*weight[1]+input[2]*weight[2]\n",
        "print(output)"
      ],
      "metadata": {
        "colab": {
          "base_uri": "https://localhost:8080/",
          "height": 0
        },
        "id": "rnmOCakTsjbP",
        "outputId": "067252a1-373a-4cb5-9ec9-df4d7f85a737"
      },
      "execution_count": 5,
      "outputs": [
        {
          "output_type": "stream",
          "name": "stdout",
          "text": [
            "0.30000000000000004\n"
          ]
        }
      ]
    },
    {
      "cell_type": "code",
      "source": [
        "input=[0.4,0.3,1,0.8]\n",
        "weights1=[0.3,0.2,0.1,0.4]\n",
        "weights2=[0.4,0.1,-0.1,0.2]\n",
        "weights3=[0.2,-0.2,-0.1,0.8]\n",
        "bias1=0.5\n",
        "bias2=0.3\n",
        "bias3=0.6\n",
        "output=[input[0]*weights1[0]+input[1]*weights1[1]+input[2]*weights1[2]+input[3]*weights1[3]+bias1,\n",
        "       input[0]*weights2[0]+input[1]*weights2[1]+input[2]*weights1[2]+input[3]*weights2[3]+bias2,\n",
        "       input[0]*weights3[0]+input[1]*weights3[1]+input[2]*weights3[2]+input[3]*weights3[3]+bias3]\n",
        "print(output)"
      ],
      "metadata": {
        "colab": {
          "base_uri": "https://localhost:8080/",
          "height": 0
        },
        "id": "AiEik3C0zp43",
        "outputId": "f748bad7-ebfe-4eff-f4b1-560bf3708315"
      },
      "execution_count": 6,
      "outputs": [
        {
          "output_type": "stream",
          "name": "stdout",
          "text": [
            "[1.1, 0.75, 1.1600000000000001]\n"
          ]
        }
      ]
    },
    {
      "cell_type": "code",
      "source": [
        "import numpy as np\n",
        "inputs = np.array([0.4,0.3,1,0.8])\n",
        "weights = np.array([\n",
        "    [0.3,0.2,0.1,0.4],\n",
        "    [0.3,0.4,-0.1,0.4],\n",
        "    [0.3,0.2,0.1,-0.4]\n",
        "])\n",
        "biases = np.array([0.5,0.3,0.6])\n",
        "output = np.dot(weights,inputs)+biases\n",
        "print(output)"
      ],
      "metadata": {
        "colab": {
          "base_uri": "https://localhost:8080/",
          "height": 0
        },
        "id": "RgBGC29Q6izv",
        "outputId": "c4130788-c117-4ef8-d1bb-505d2ad577cc"
      },
      "execution_count": 15,
      "outputs": [
        {
          "output_type": "stream",
          "name": "stdout",
          "text": [
            "[1.1  0.76 0.56]\n"
          ]
        }
      ]
    },
    {
      "cell_type": "code",
      "source": [
        "import numpy as np\n",
        "def relu(x):\n",
        "  return np.maximum(0,x)\n",
        "inputs = np.array([0.4,0.3,1,0.8])\n",
        "weights = np.array([\n",
        "    [0.3,0.2,0.1,0.4],\n",
        "    [0.3,0.4,-0.1,0.4],\n",
        "    [0.3,0.2,0.1,-0.4]\n",
        "])\n",
        "biases = np.array([0.5,0.3,0.6])\n",
        "output = np.dot(weights,inputs)+biases\n",
        "\n",
        "output = relu(output)\n",
        "\n",
        "print(output)"
      ],
      "metadata": {
        "colab": {
          "base_uri": "https://localhost:8080/"
        },
        "id": "4tXx6lzb6rM-",
        "outputId": "40504c7a-0c47-43a6-b3e3-d9e00bd9a2ee"
      },
      "execution_count": 16,
      "outputs": [
        {
          "output_type": "stream",
          "name": "stdout",
          "text": [
            "[1.1  0.76 0.56]\n"
          ]
        }
      ]
    },
    {
      "cell_type": "code",
      "source": [
        "import numpy as np\n",
        "def sigmoid(x):\n",
        "    return 1/(1+np.exp(-x))\n",
        "def relu(x):\n",
        "  return np.maximum(0,x)\n",
        "inputs = np.array([0.4,0.3,1,0.8])\n",
        "weights = np.array([\n",
        "    [0.3,0.2,0.1,0.4],\n",
        "    [0.3,0.4,-0.1,0.4],\n",
        "    [0.3,0.2,0.1,-0.4]\n",
        "])\n",
        "biases = np.array([0.5,0.3,0.6])\n",
        "output = np.dot(weights,inputs)+biases\n",
        "\n",
        "output1 = relu(output)\n",
        "print(output1)\n",
        "output2 = sigmoid(output)\n",
        "print(output2)"
      ],
      "metadata": {
        "colab": {
          "base_uri": "https://localhost:8080/"
        },
        "id": "wm3QNxC9_KIP",
        "outputId": "880fdfab-442f-4d04-cbc7-81d525e512c8"
      },
      "execution_count": 18,
      "outputs": [
        {
          "output_type": "stream",
          "name": "stdout",
          "text": [
            "[1.1  0.76 0.56]\n",
            "[0.75026011 0.68135373 0.63645254]\n"
          ]
        }
      ]
    }
  ]
}